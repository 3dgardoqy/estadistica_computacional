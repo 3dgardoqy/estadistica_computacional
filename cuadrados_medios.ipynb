{
  "nbformat": 4,
  "nbformat_minor": 0,
  "metadata": {
    "colab": {
      "provenance": [],
      "authorship_tag": "ABX9TyNPBXBL5Oij64Tk6NihE6FK",
      "include_colab_link": true
    },
    "kernelspec": {
      "name": "python3",
      "display_name": "Python 3"
    },
    "language_info": {
      "name": "python"
    }
  },
  "cells": [
    {
      "cell_type": "markdown",
      "metadata": {
        "id": "view-in-github",
        "colab_type": "text"
      },
      "source": [
        "<a href=\"https://colab.research.google.com/github/3dgardoqy/estadistica_computacional/blob/main/cuadrados_medios.ipynb\" target=\"_parent\"><img src=\"https://colab.research.google.com/assets/colab-badge.svg\" alt=\"Open In Colab\"/></a>"
      ]
    },
    {
      "cell_type": "code",
      "execution_count": 46,
      "metadata": {
        "colab": {
          "base_uri": "https://localhost:8080/"
        },
        "id": "NXEWcBkpYF1U",
        "outputId": "3f76a451-14d1-45b0-f5bf-e949575eb867"
      },
      "outputs": [
        {
          "output_type": "stream",
          "name": "stdout",
          "text": [
            "Ingrese X0: 5735\n",
            "Ingrese de n: 5\n",
            "══════════════════════════════════════════════════\n",
            "Yi                  Xi                  ri                  \n",
            "══════════════════════════════════════════════════\n",
            "32890225            8902                0.8902\n",
            "79245604            2456                0.2456\n",
            "06031936            0319                0.0319\n",
            "101761              0176                0.0176\n",
            "030976              3097                0.3097\n"
          ]
        }
      ],
      "source": [
        "def central(Y, D):\n",
        "  Y_str = list(str(Y))\n",
        "  dif = (len(Y_str)-D)/2\n",
        "  return ''.join(Y_str[int(dif):int(dif)+D])\n",
        "\n",
        "def medios_cuadrados(X0, n):\n",
        "  print(\"═\"*50+\"\\n\"+\"Yi\".ljust(20)+\"Xi\".ljust(20)+\"ri\".ljust(20)+\"\\n\"+\"═\"*50)\n",
        "  D = len(str(X0))\n",
        "  temp = 0\n",
        "  for i in range(0, n):\n",
        "    Y = X0**2\n",
        "    D_centros = central(Y,D)\n",
        "    print(f\"{str(Y).zfill(2*temp).ljust(20)}{str(D_centros).ljust(20)}{'0.'+D_centros}\")\n",
        "    temp = len(D_centros.lstrip('0'))\n",
        "    X0 = int(central(Y,D))\n",
        "\n",
        "X0 = int(input(\"Ingrese X0: \"))\n",
        "n = int(input(\"Ingrese de n: \"))\n",
        "medios_cuadrados(X0, n)"
      ]
    }
  ]
}